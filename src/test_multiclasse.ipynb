{
 "cells": [
  {
   "cell_type": "markdown",
   "metadata": {},
   "source": [
    "# Projet Machine-Learning par Antoine Théologien\n",
    "## Test du multiclasse"
   ]
  },
  {
   "cell_type": "code",
   "execution_count": 7,
   "metadata": {},
   "outputs": [
    {
     "ename": "AttributeError",
     "evalue": "'Softmax' object has no attribute 'zero_grad'",
     "output_type": "error",
     "traceback": [
      "\u001b[1;31m---------------------------------------------------------------------------\u001b[0m",
      "\u001b[1;31mAttributeError\u001b[0m                            Traceback (most recent call last)",
      "Cell \u001b[1;32mIn[7], line 61\u001b[0m\n\u001b[0;32m     55\u001b[0m datay \u001b[38;5;241m=\u001b[39m encoder\u001b[38;5;241m.\u001b[39mfit_transform(datay\u001b[38;5;241m.\u001b[39mreshape(\u001b[38;5;241m-\u001b[39m\u001b[38;5;241m1\u001b[39m, \u001b[38;5;241m1\u001b[39m))\n\u001b[0;32m     59\u001b[0m x_train, x_test, y_train, y_test \u001b[38;5;241m=\u001b[39m train_test_split(datax, datay, test_size\u001b[38;5;241m=\u001b[39m\u001b[38;5;241m0.2\u001b[39m, random_state\u001b[38;5;241m=\u001b[39m\u001b[38;5;241m42\u001b[39m)\n\u001b[1;32m---> 61\u001b[0m losses, trained_model \u001b[38;5;241m=\u001b[39m \u001b[43mSGD\u001b[49m\u001b[43m(\u001b[49m\u001b[43mnetwork\u001b[49m\u001b[43m,\u001b[49m\u001b[43m \u001b[49m\u001b[43mx_train\u001b[49m\u001b[43m,\u001b[49m\u001b[43m \u001b[49m\u001b[43my_train\u001b[49m\u001b[43m,\u001b[49m\u001b[43m \u001b[49m\u001b[43mloss\u001b[49m\u001b[43m,\u001b[49m\u001b[43m \u001b[49m\u001b[43mbatch_size\u001b[49m\u001b[38;5;241;43m=\u001b[39;49m\u001b[38;5;241;43m32\u001b[39;49m\u001b[43m,\u001b[49m\u001b[43m \u001b[49m\u001b[43mlr\u001b[49m\u001b[38;5;241;43m=\u001b[39;49m\u001b[38;5;241;43m0.01\u001b[39;49m\u001b[43m,\u001b[49m\u001b[43m \u001b[49m\u001b[43mepochs\u001b[49m\u001b[38;5;241;43m=\u001b[39;49m\u001b[38;5;241;43m100\u001b[39;49m\u001b[43m)\u001b[49m\n\u001b[0;32m     63\u001b[0m plt\u001b[38;5;241m.\u001b[39mplot(losses)\n\u001b[0;32m     64\u001b[0m plt\u001b[38;5;241m.\u001b[39mtitle(\u001b[38;5;124m\"\u001b[39m\u001b[38;5;124mÉvolution de la perte\u001b[39m\u001b[38;5;124m\"\u001b[39m)\n",
      "Cell \u001b[1;32mIn[7], line 20\u001b[0m, in \u001b[0;36mSGD\u001b[1;34m(network, datax, datay, loss, batch_size, lr, epochs)\u001b[0m\n\u001b[0;32m     17\u001b[0m batch_x \u001b[38;5;241m=\u001b[39m datax[indices[i:i \u001b[38;5;241m+\u001b[39m batch_size]]\n\u001b[0;32m     18\u001b[0m batch_y \u001b[38;5;241m=\u001b[39m datay[indices[i:i \u001b[38;5;241m+\u001b[39m batch_size]]\n\u001b[1;32m---> 20\u001b[0m \u001b[43moptimizer\u001b[49m\u001b[38;5;241;43m.\u001b[39;49m\u001b[43mstep\u001b[49m\u001b[43m(\u001b[49m\u001b[43mbatch_x\u001b[49m\u001b[43m,\u001b[49m\u001b[43m \u001b[49m\u001b[43mbatch_y\u001b[49m\u001b[43m)\u001b[49m  \n\u001b[0;32m     22\u001b[0m y_hat \u001b[38;5;241m=\u001b[39m network\u001b[38;5;241m.\u001b[39mforward(batch_x)\n\u001b[0;32m     23\u001b[0m batch_loss \u001b[38;5;241m=\u001b[39m loss\u001b[38;5;241m.\u001b[39mforward(batch_y, y_hat)\u001b[38;5;241m.\u001b[39mmean()\n",
      "File \u001b[1;32mc:\\Users\\antoi\\OneDrive\\Documents\\Universite\\M1\\S2\\ML\\Projet_ML\\src\\module.py:180\u001b[0m, in \u001b[0;36mOptim.step\u001b[1;34m(self, batch_x, batch_y)\u001b[0m\n\u001b[0;32m    179\u001b[0m \u001b[38;5;28;01mdef\u001b[39;00m \u001b[38;5;21mstep\u001b[39m(\u001b[38;5;28mself\u001b[39m, batch_x, batch_y):\n\u001b[1;32m--> 180\u001b[0m     \u001b[38;5;28;43mself\u001b[39;49m\u001b[38;5;241;43m.\u001b[39;49m\u001b[43mnet\u001b[49m\u001b[38;5;241;43m.\u001b[39;49m\u001b[43mzero_grad\u001b[49m\u001b[43m(\u001b[49m\u001b[43m)\u001b[49m\n\u001b[0;32m    181\u001b[0m     \u001b[38;5;28mself\u001b[39m\u001b[38;5;241m.\u001b[39mnet\u001b[38;5;241m.\u001b[39mbackward(batch_x, batch_y, \u001b[38;5;28mself\u001b[39m\u001b[38;5;241m.\u001b[39mloss)\n\u001b[0;32m    182\u001b[0m     \u001b[38;5;28mself\u001b[39m\u001b[38;5;241m.\u001b[39mnet\u001b[38;5;241m.\u001b[39mupdate_parameters(\u001b[38;5;28mself\u001b[39m\u001b[38;5;241m.\u001b[39meps)\n",
      "File \u001b[1;32mc:\\Users\\antoi\\OneDrive\\Documents\\Universite\\M1\\S2\\ML\\Projet_ML\\src\\module.py:170\u001b[0m, in \u001b[0;36mSequentiel.zero_grad\u001b[1;34m(self)\u001b[0m\n\u001b[0;32m    168\u001b[0m \u001b[38;5;28;01mdef\u001b[39;00m \u001b[38;5;21mzero_grad\u001b[39m(\u001b[38;5;28mself\u001b[39m):\n\u001b[0;32m    169\u001b[0m     \u001b[38;5;28;01mfor\u001b[39;00m module \u001b[38;5;129;01min\u001b[39;00m \u001b[38;5;28mself\u001b[39m\u001b[38;5;241m.\u001b[39mmodules:\n\u001b[1;32m--> 170\u001b[0m         \u001b[43mmodule\u001b[49m\u001b[38;5;241;43m.\u001b[39;49m\u001b[43mzero_grad\u001b[49m()\n",
      "\u001b[1;31mAttributeError\u001b[0m: 'Softmax' object has no attribute 'zero_grad'"
     ]
    }
   ],
   "source": [
    "import numpy as np\n",
    "import matplotlib.pyplot as plt\n",
    "from sklearn.model_selection import train_test_split\n",
    "from module import *\n",
    "from mltools import *\n",
    "\n",
    "def SGD(network, datax, datay, loss, batch_size=10, lr=0.01, epochs=500):\n",
    "\n",
    "    optimizer = Optim(network, loss, eps=lr)\n",
    "    losses = []\n",
    "\n",
    "    for epoch in range(epochs):\n",
    "        indices = np.random.permutation(len(datax))  \n",
    "        batch_losses = []\n",
    "\n",
    "        for i in range(0, len(datax), batch_size):\n",
    "            batch_x = datax[indices[i:i + batch_size]]\n",
    "            batch_y = datay[indices[i:i + batch_size]]\n",
    "\n",
    "            optimizer.step(batch_x, batch_y)  \n",
    "\n",
    "            y_hat = network.forward(batch_x)\n",
    "            batch_loss = loss.forward(batch_y, y_hat).mean()\n",
    "            batch_losses.append(batch_loss)\n",
    "\n",
    "        losses.append(np.mean(batch_losses))  \n",
    "\n",
    "        if epoch % 50 == 0:\n",
    "            print(f\"Époque {epoch}, Perte : {losses[-1]:.4f}\")\n",
    "\n",
    "    return losses, network\n",
    "\n",
    "network = Sequentiel(\n",
    "    Linear(784, 128),  # Exemple pour MNIST (entrée 28x28=784)\n",
    "    TanH(),\n",
    "    Linear(128, 64),\n",
    "    TanH(),\n",
    "    Linear(64, 10),  # 10 classes (chiffres 0 à 9)\n",
    "    Softmax()  # On peut aussi utiliser LogSoftmax et CrossEntropy combinée\n",
    ")\n",
    "loss = CrossEntropyLoss()\n",
    "\n",
    "from sklearn.datasets import fetch_openml\n",
    "from sklearn.model_selection import train_test_split\n",
    "from sklearn.preprocessing import OneHotEncoder\n",
    "\n",
    "mnist = fetch_openml(\"mnist_784\", version=1)\n",
    "datax, datay = mnist.data, mnist.target.astype(int)\n",
    "\n",
    "datax = datax / 255.0\n",
    "datax = datax.to_numpy()\n",
    "datay = datay.to_numpy()\n",
    "\n",
    "encoder = OneHotEncoder(sparse_output=False)\n",
    "datay = encoder.fit_transform(datay.reshape(-1, 1))\n",
    "\n",
    "\n",
    "\n",
    "x_train, x_test, y_train, y_test = train_test_split(datax, datay, test_size=0.2, random_state=42)\n",
    "\n",
    "losses, trained_model = SGD(network, x_train, y_train, loss, batch_size=32, lr=0.01, epochs=100)\n",
    "\n",
    "plt.plot(losses)\n",
    "plt.title(\"Évolution de la perte\")\n",
    "plt.xlabel(\"Époques\")\n",
    "plt.ylabel(\"Cross-Entropy Loss\")\n",
    "plt.show()\n",
    "\n",
    "predictions = trained_model.forward(x_test)\n",
    "accuracy = np.mean(np.argmax(predictions, axis=1) == np.argmax(y_test, axis=1))\n",
    "print(f\"Précision sur le test : {accuracy:.4f}\")\n"
   ]
  },
  {
   "cell_type": "code",
   "execution_count": null,
   "metadata": {},
   "outputs": [],
   "source": []
  }
 ],
 "metadata": {
  "kernelspec": {
   "display_name": "Python 3",
   "language": "python",
   "name": "python3"
  },
  "language_info": {
   "codemirror_mode": {
    "name": "ipython",
    "version": 3
   },
   "file_extension": ".py",
   "mimetype": "text/x-python",
   "name": "python",
   "nbconvert_exporter": "python",
   "pygments_lexer": "ipython3",
   "version": "3.12.1"
  }
 },
 "nbformat": 4,
 "nbformat_minor": 2
}
