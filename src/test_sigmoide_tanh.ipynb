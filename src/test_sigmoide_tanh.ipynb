{
 "cells": [
  {
   "cell_type": "markdown",
   "metadata": {},
   "source": [
    "# Projet Machine-Learning par Antoine Théologien\n",
    "## Test d'un réseau de neurones à deux couches"
   ]
  },
  {
   "cell_type": "code",
   "execution_count": 1,
   "metadata": {},
   "outputs": [],
   "source": [
    "import numpy as np\n",
    "import matplotlib.pyplot as plt\n",
    "from sklearn.model_selection import train_test_split\n",
    "from module import *\n",
    "from mltools import *\n",
    "\n",
    "def train_nn(X, y, model, loss, epochs=1000, lr=0.1, batch_size=16):\n",
    "    losses = []\n",
    "    n = X.shape[0]  \n",
    "    \n",
    "    for epoch in range(epochs):\n",
    "        indices = np.random.permutation(n)  \n",
    "        X_shuffled, y_shuffled = X[indices], y[indices]\n",
    "\n",
    "        epoch_loss = 0\n",
    "        for i in range(0, n, batch_size):\n",
    "            X_batch = X_shuffled[i:i+batch_size]\n",
    "            y_batch = y_shuffled[i:i+batch_size]\n",
    "\n",
    "            # Forward et calcul de la perte\n",
    "            y_hat = model.forward(X_batch)\n",
    "            batch_loss = np.mean(loss.forward(y_batch, y_hat))\n",
    "            epoch_loss += batch_loss * len(X_batch) / n \n",
    "\n",
    "            model.zero_grad()\n",
    "            model.backward(X_batch, y_batch, loss)\n",
    "            model.update_parameters(lr)\n",
    "\n",
    "        losses.append(epoch_loss)\n",
    "        \n",
    "        if epoch % 100 == 0:\n",
    "            print(f\"Epoch {epoch}: Loss = {epoch_loss:.4f}\")\n",
    "\n",
    "    return losses, model\n",
    "\n"
   ]
  },
  {
   "cell_type": "code",
   "execution_count": null,
   "metadata": {},
   "outputs": [
    {
     "name": "stdout",
     "output_type": "stream",
     "text": [
      "(16, 5)\n",
      "(16, 5)\n",
      "(16, 1)\n",
      "(16, 1)\n",
      "(16, 5)\n",
      "(16, 5)\n",
      "(16, 1)\n",
      "(16, 1)\n",
      "delta reshaped shape: (16, 5)\n"
     ]
    },
    {
     "ename": "ValueError",
     "evalue": "non-broadcastable output operand with shape (6,1) doesn't match the broadcast shape (6,5)",
     "output_type": "error",
     "traceback": [
      "\u001b[1;31m---------------------------------------------------------------------------\u001b[0m",
      "\u001b[1;31mValueError\u001b[0m                                Traceback (most recent call last)",
      "Cell \u001b[1;32mIn[2], line 16\u001b[0m\n\u001b[0;32m     13\u001b[0m loss \u001b[38;5;241m=\u001b[39m MSELoss()\n\u001b[0;32m     15\u001b[0m \u001b[38;5;66;03m# Entraînement\u001b[39;00m\n\u001b[1;32m---> 16\u001b[0m losses, trained_model \u001b[38;5;241m=\u001b[39m \u001b[43mtrain_nn\u001b[49m\u001b[43m(\u001b[49m\u001b[43mdatax\u001b[49m\u001b[43m,\u001b[49m\u001b[43m \u001b[49m\u001b[43mdatay\u001b[49m\u001b[43m,\u001b[49m\u001b[43m \u001b[49m\u001b[43mmodel\u001b[49m\u001b[43m,\u001b[49m\u001b[43m \u001b[49m\u001b[43mloss\u001b[49m\u001b[43m,\u001b[49m\u001b[43m \u001b[49m\u001b[43mepochs\u001b[49m\u001b[38;5;241;43m=\u001b[39;49m\u001b[38;5;241;43m500\u001b[39;49m\u001b[43m,\u001b[49m\u001b[43m \u001b[49m\u001b[43mlr\u001b[49m\u001b[38;5;241;43m=\u001b[39;49m\u001b[38;5;241;43m0.05\u001b[39;49m\u001b[43m,\u001b[49m\u001b[43m \u001b[49m\u001b[43mbatch_size\u001b[49m\u001b[38;5;241;43m=\u001b[39;49m\u001b[38;5;241;43m16\u001b[39;49m\u001b[43m)\u001b[49m\n\u001b[0;32m     18\u001b[0m plt\u001b[38;5;241m.\u001b[39mfigure(figsize\u001b[38;5;241m=\u001b[39m(\u001b[38;5;241m12\u001b[39m, \u001b[38;5;241m5\u001b[39m))\n\u001b[0;32m     19\u001b[0m plt\u001b[38;5;241m.\u001b[39mplot(losses, label\u001b[38;5;241m=\u001b[39m\u001b[38;5;124m\"\u001b[39m\u001b[38;5;124mMSE Loss\u001b[39m\u001b[38;5;124m\"\u001b[39m)\n",
      "Cell \u001b[1;32mIn[1], line 26\u001b[0m, in \u001b[0;36mtrain_nn\u001b[1;34m(X, y, model, loss, epochs, lr, batch_size)\u001b[0m\n\u001b[0;32m     23\u001b[0m     epoch_loss \u001b[38;5;241m+\u001b[39m\u001b[38;5;241m=\u001b[39m batch_loss \u001b[38;5;241m*\u001b[39m \u001b[38;5;28mlen\u001b[39m(X_batch) \u001b[38;5;241m/\u001b[39m n \n\u001b[0;32m     25\u001b[0m     model\u001b[38;5;241m.\u001b[39mzero_grad()\n\u001b[1;32m---> 26\u001b[0m     \u001b[43mmodel\u001b[49m\u001b[38;5;241;43m.\u001b[39;49m\u001b[43mbackward\u001b[49m\u001b[43m(\u001b[49m\u001b[43mX_batch\u001b[49m\u001b[43m,\u001b[49m\u001b[43m \u001b[49m\u001b[43my_batch\u001b[49m\u001b[43m,\u001b[49m\u001b[43m \u001b[49m\u001b[43mloss\u001b[49m\u001b[43m)\u001b[49m\n\u001b[0;32m     27\u001b[0m     model\u001b[38;5;241m.\u001b[39mupdate_parameters(lr)\n\u001b[0;32m     29\u001b[0m losses\u001b[38;5;241m.\u001b[39mappend(epoch_loss)\n",
      "File \u001b[1;32mc:\\Users\\antoi\\OneDrive\\Documents\\Universite\\M1\\S2\\ML\\Projet_ML\\src\\module.py:165\u001b[0m, in \u001b[0;36mSequentiel.backward\u001b[1;34m(self, X, y, loss)\u001b[0m\n\u001b[0;32m    163\u001b[0m \u001b[38;5;28;01mfor\u001b[39;00m i \u001b[38;5;129;01min\u001b[39;00m \u001b[38;5;28mrange\u001b[39m(\u001b[38;5;28mlen\u001b[39m(\u001b[38;5;28mself\u001b[39m\u001b[38;5;241m.\u001b[39mmodules) \u001b[38;5;241m-\u001b[39m \u001b[38;5;241m1\u001b[39m, \u001b[38;5;241m-\u001b[39m\u001b[38;5;241m1\u001b[39m, \u001b[38;5;241m-\u001b[39m\u001b[38;5;241m1\u001b[39m):  \n\u001b[0;32m    164\u001b[0m     delta \u001b[38;5;241m=\u001b[39m \u001b[38;5;28mself\u001b[39m\u001b[38;5;241m.\u001b[39mmodules[i]\u001b[38;5;241m.\u001b[39mbackward_delta(\u001b[38;5;28mself\u001b[39m\u001b[38;5;241m.\u001b[39minputs[i], delta)\n\u001b[1;32m--> 165\u001b[0m     \u001b[38;5;28;43mself\u001b[39;49m\u001b[38;5;241;43m.\u001b[39;49m\u001b[43mmodules\u001b[49m\u001b[43m[\u001b[49m\u001b[43mi\u001b[49m\u001b[43m]\u001b[49m\u001b[38;5;241;43m.\u001b[39;49m\u001b[43mbackward_update_gradient\u001b[49m\u001b[43m(\u001b[49m\u001b[38;5;28;43mself\u001b[39;49m\u001b[38;5;241;43m.\u001b[39;49m\u001b[43minputs\u001b[49m\u001b[43m[\u001b[49m\u001b[43mi\u001b[49m\u001b[43m]\u001b[49m\u001b[43m,\u001b[49m\u001b[43m \u001b[49m\u001b[43mdelta\u001b[49m\u001b[43m)\u001b[49m\n",
      "File \u001b[1;32mc:\\Users\\antoi\\OneDrive\\Documents\\Universite\\M1\\S2\\ML\\Projet_ML\\src\\module.py:52\u001b[0m, in \u001b[0;36mLinear.backward_update_gradient\u001b[1;34m(self, input, delta)\u001b[0m\n\u001b[0;32m     49\u001b[0m \u001b[38;5;66;03m# Vérification après reshape\u001b[39;00m\n\u001b[0;32m     50\u001b[0m \u001b[38;5;28mprint\u001b[39m(\u001b[38;5;124mf\u001b[39m\u001b[38;5;124m\"\u001b[39m\u001b[38;5;124mdelta reshaped shape: \u001b[39m\u001b[38;5;132;01m{\u001b[39;00mdelta\u001b[38;5;241m.\u001b[39mshape\u001b[38;5;132;01m}\u001b[39;00m\u001b[38;5;124m\"\u001b[39m)\n\u001b[1;32m---> 52\u001b[0m \u001b[38;5;28;43mself\u001b[39;49m\u001b[38;5;241;43m.\u001b[39;49m\u001b[43m_gradient\u001b[49m\u001b[43m \u001b[49m\u001b[38;5;241;43m+\u001b[39;49m\u001b[38;5;241;43m=\u001b[39;49m\u001b[43m \u001b[49m\u001b[43m(\u001b[49m\u001b[38;5;28;43minput\u001b[39;49m\u001b[38;5;241;43m.\u001b[39;49m\u001b[43mT\u001b[49m\u001b[43m \u001b[49m\u001b[38;5;241;43m@\u001b[39;49m\u001b[43m \u001b[49m\u001b[43mdelta\u001b[49m\u001b[43m)\u001b[49m\n",
      "\u001b[1;31mValueError\u001b[0m: non-broadcastable output operand with shape (6,1) doesn't match the broadcast shape (6,5)"
     ]
    }
   ],
   "source": [
    "for i in [0,1,2]:\n",
    "    datax, datay = gen_arti(data_type=i, epsilon=0.1)\n",
    "    datay = datay.reshape(-1, 1) \n",
    "\n",
    "    model = SimpleNN(input_dim=2, hidden_dim=5, output_dim=1)\n",
    "    loss = MSELoss()\n",
    "\n",
    "    # Entraînement\n",
    "    losses, trained_model = train_nn(datax, datay, model, loss, epochs=500, lr=0.05, batch_size=16)\n",
    "\n",
    "    plt.figure(figsize=(12, 5))\n",
    "    plt.plot(losses, label=\"MSE Loss\")\n",
    "    plt.xlabel(\"Itérations\")\n",
    "    plt.ylabel(\"Coût\")\n",
    "    plt.title(\"Évolution de la MSE\")\n",
    "    plt.legend()\n",
    "    plt.show()\n",
    "\n",
    "    plt.figure(figsize=(6, 6))\n",
    "    plot_frontiere(datax, lambda x: np.round(trained_model.forward(x)), step=100)\n",
    "    plot_data(datax, datay)\n",
    "    plt.title(\"Frontière de décision du réseau\")\n",
    "    plt.show()\n",
    "\n",
    "    print(datax.shape)\n"
   ]
  },
  {
   "cell_type": "code",
   "execution_count": null,
   "metadata": {},
   "outputs": [],
   "source": []
  }
 ],
 "metadata": {
  "kernelspec": {
   "display_name": "Python 3",
   "language": "python",
   "name": "python3"
  },
  "language_info": {
   "codemirror_mode": {
    "name": "ipython",
    "version": 3
   },
   "file_extension": ".py",
   "mimetype": "text/x-python",
   "name": "python",
   "nbconvert_exporter": "python",
   "pygments_lexer": "ipython3",
   "version": "3.12.1"
  }
 },
 "nbformat": 4,
 "nbformat_minor": 2
}
